{
 "cells": [
  {
   "cell_type": "code",
   "execution_count": 16,
   "id": "a93b8ef5",
   "metadata": {},
   "outputs": [],
   "source": [
    "import pandas as pd\n",
    "import numpy as np\n",
    "import os"
   ]
  },
  {
   "cell_type": "code",
   "execution_count": 17,
   "id": "1ad8b38b",
   "metadata": {},
   "outputs": [],
   "source": [
    "def load_batting_stats(path):\n",
    "    seasons = sorted(c for c in os.listdir(path))\n",
    "    stan_batting_dfs = []\n",
    "    for season in seasons:\n",
    "        df = pd.read_csv(path + \"/\" + season)\n",
    "        df[\"year\"] = int(season.split(\"_\")[-1].split(\".\")[0])\n",
    "        stan_batting_dfs.append(df)\n",
    "\n",
    "    full_df = pd.concat(stan_batting_dfs, ignore_index=True)\n",
    "\n",
    "    return full_df"
   ]
  },
  {
   "cell_type": "code",
   "execution_count": 18,
   "id": "503c1e57",
   "metadata": {},
   "outputs": [],
   "source": [
    "def load_pitching_stats(path):\n",
    "    seasons = sorted(c for c in os.listdir(path))\n",
    "    stan_pitching_dfs = []\n",
    "    for season in seasons:\n",
    "        df = pd.read_csv(path + \"/\" + season)\n",
    "        df[\"year\"] = int(season.split(\"_\")[-1].split(\".\")[0])\n",
    "        stan_pitching_dfs.append(df)\n",
    "\n",
    "    full_df = pd.concat(stan_pitching_dfs, ignore_index=True)\n",
    "\n",
    "    return full_df"
   ]
  },
  {
   "cell_type": "code",
   "execution_count": 19,
   "id": "b2c553ac",
   "metadata": {},
   "outputs": [],
   "source": [
    "def load_salaries(path):\n",
    "    return pd.read_csv(path, encoding=\"latin1\")"
   ]
  },
  {
   "cell_type": "code",
   "execution_count": 20,
   "id": "4cdef102",
   "metadata": {},
   "outputs": [
    {
     "ename": "ValueError",
     "evalue": "invalid literal for int() with base 10: 'batting'",
     "output_type": "error",
     "traceback": [
      "\u001b[31m---------------------------------------------------------------------------\u001b[39m",
      "\u001b[31mValueError\u001b[39m                                Traceback (most recent call last)",
      "\u001b[36mCell\u001b[39m\u001b[36m \u001b[39m\u001b[32mIn[20]\u001b[39m\u001b[32m, line 5\u001b[39m\n\u001b[32m      2\u001b[39m pitching_folder = \u001b[33m\"\u001b[39m\u001b[33mcsv_files/stan_pitching\u001b[39m\u001b[33m\"\u001b[39m\n\u001b[32m      3\u001b[39m salary_path = \u001b[33m\"\u001b[39m\u001b[33mcsv_files/mlb_salary_data.csv\u001b[39m\u001b[33m\"\u001b[39m\n\u001b[32m----> \u001b[39m\u001b[32m5\u001b[39m batting_df = \u001b[43mload_batting_stats\u001b[49m\u001b[43m(\u001b[49m\u001b[43mbatting_folder\u001b[49m\u001b[43m)\u001b[49m\n\u001b[32m      6\u001b[39m pitching_df = load_pitching_stats(pitching_folder)\n\u001b[32m      7\u001b[39m salary_df = load_salaries(salary_path)\n",
      "\u001b[36mCell\u001b[39m\u001b[36m \u001b[39m\u001b[32mIn[17]\u001b[39m\u001b[32m, line 6\u001b[39m, in \u001b[36mload_batting_stats\u001b[39m\u001b[34m(path)\u001b[39m\n\u001b[32m      4\u001b[39m \u001b[38;5;28;01mfor\u001b[39;00m season \u001b[38;5;129;01min\u001b[39;00m seasons:\n\u001b[32m      5\u001b[39m     df = pd.read_csv(path + \u001b[33m\"\u001b[39m\u001b[33m/\u001b[39m\u001b[33m\"\u001b[39m + season)\n\u001b[32m----> \u001b[39m\u001b[32m6\u001b[39m     df[\u001b[33m\"\u001b[39m\u001b[33myear\u001b[39m\u001b[33m\"\u001b[39m] = \u001b[38;5;28;43mint\u001b[39;49m\u001b[43m(\u001b[49m\u001b[43mseason\u001b[49m\u001b[43m.\u001b[49m\u001b[43msplit\u001b[49m\u001b[43m(\u001b[49m\u001b[33;43m\"\u001b[39;49m\u001b[33;43m_\u001b[39;49m\u001b[33;43m\"\u001b[39;49m\u001b[43m)\u001b[49m\u001b[43m[\u001b[49m\u001b[43m-\u001b[49m\u001b[32;43m1\u001b[39;49m\u001b[43m]\u001b[49m\u001b[43m.\u001b[49m\u001b[43msplit\u001b[49m\u001b[43m(\u001b[49m\u001b[33;43m\"\u001b[39;49m\u001b[33;43m.\u001b[39;49m\u001b[33;43m\"\u001b[39;49m\u001b[43m)\u001b[49m\u001b[43m[\u001b[49m\u001b[32;43m0\u001b[39;49m\u001b[43m]\u001b[49m\u001b[43m)\u001b[49m\n\u001b[32m      7\u001b[39m     stan_batting_dfs.append(df)\n\u001b[32m      9\u001b[39m full_df = pd.concat(stan_batting_dfs, ignore_index=\u001b[38;5;28;01mTrue\u001b[39;00m)\n",
      "\u001b[31mValueError\u001b[39m: invalid literal for int() with base 10: 'batting'"
     ]
    }
   ],
   "source": [
    "batting_folder = \"csv_files/stan_batting\"\n",
    "pitching_folder = \"csv_files/stan_pitching\"\n",
    "salary_path = \"csv_files/mlb_salary_data.csv\"\n",
    "\n",
    "batting_df = load_batting_stats(batting_folder)\n",
    "pitching_df = load_pitching_stats(pitching_folder)\n",
    "salary_df = load_salaries(salary_path)\n",
    "\n",
    "output_folder = \"concat_csv_data\"\n",
    "os.makedirs(\"csv_files\" + \"/\" + output_folder, exist_ok=True)\n",
    "\n",
    "batting_df.to_csv(\"csv_files/\" + output_folder + \"/\" + \"concat_batting.csv\")\n",
    "pitching_df.to_csv(\"csv_files/\" + output_folder + \"/\" + \"concat_pitching.csv\")\n",
    "salary_df.to_csv(\"csv_files/\" + output_folder + \"/\" + \"concat_salary.csv\")"
   ]
  },
  {
   "cell_type": "code",
   "execution_count": null,
   "id": "b1d2e322-9f43-42f6-a6eb-f0200f25698d",
   "metadata": {},
   "outputs": [],
   "source": []
  }
 ],
 "metadata": {
  "kernelspec": {
   "display_name": "Python 3 (ipykernel)",
   "language": "python",
   "name": "python3"
  },
  "language_info": {
   "codemirror_mode": {
    "name": "ipython",
    "version": 3
   },
   "file_extension": ".py",
   "mimetype": "text/x-python",
   "name": "python",
   "nbconvert_exporter": "python",
   "pygments_lexer": "ipython3",
   "version": "3.13.2"
  }
 },
 "nbformat": 4,
 "nbformat_minor": 5
}
